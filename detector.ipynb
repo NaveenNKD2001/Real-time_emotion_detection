{
 "cells": [
  {
   "cell_type": "code",
   "execution_count": 1,
   "id": "be919133",
   "metadata": {},
   "outputs": [
    {
     "name": "stdout",
     "output_type": "stream",
     "text": [
      "WARNING:tensorflow:From C:\\Users\\navee\\anaconda3\\Lib\\site-packages\\keras\\src\\losses.py:2976: The name tf.losses.sparse_softmax_cross_entropy is deprecated. Please use tf.compat.v1.losses.sparse_softmax_cross_entropy instead.\n",
      "\n"
     ]
    }
   ],
   "source": [
    "import numpy as np\n",
    "import pandas as pd\n",
    "from matplotlib import pyplot as plt\n",
    "%matplotlib inline\n",
    "\n",
    "import tensorflow as tf\n",
    "import cv2\n",
    "from glob import glob"
   ]
  },
  {
   "cell_type": "code",
   "execution_count": 2,
   "id": "948ee1a8",
   "metadata": {},
   "outputs": [],
   "source": [
    "images=glob(\"train\\\\**\\\\**\")"
   ]
  },
  {
   "cell_type": "code",
   "execution_count": 3,
   "id": "6df307d8",
   "metadata": {},
   "outputs": [
    {
     "data": {
      "text/plain": [
       "<matplotlib.image.AxesImage at 0x22431165d90>"
      ]
     },
     "execution_count": 3,
     "metadata": {},
     "output_type": "execute_result"
    },
    {
     "data": {
      "image/png": "[encoded data removed]",
      "text/plain": [
       "<Figure size 640x480 with 1 Axes>"
      ]
     },
     "metadata": {},
     "output_type": "display_data"
    }
   ],
   "source": [
    "plt.imshow(cv2.imread(images[0]))"
   ]
  },
  {
   "cell_type": "code",
   "execution_count": 4,
   "id": "07483089",
   "metadata": {},
   "outputs": [
    {
     "data": {
      "text/plain": [
       "(48, 48, 3)"
      ]
     },
     "execution_count": 4,
     "metadata": {},
     "output_type": "execute_result"
    }
   ],
   "source": [
    "cv2.imread(images[0]).shape"
   ]
  },
  {
   "cell_type": "code",
   "execution_count": 5,
   "id": "6845be96",
   "metadata": {},
   "outputs": [
    {
     "name": "stdout",
     "output_type": "stream",
     "text": [
      "Found 28709 files belonging to 7 classes.\n"
     ]
    }
   ],
   "source": [
    "train_data=tf.keras.utils.image_dataset_from_directory(\"train\",\n",
    "                                                      image_size=(48,48),\n",
    "                                                      color_mode='grayscale',\n",
    "                                                      label_mode='categorical',\n",
    "                                                      batch_size=32,\n",
    "                                                      shuffle=True)"
   ]
  },
  {
   "cell_type": "code",
   "execution_count": 6,
   "id": "12bd2fde",
   "metadata": {},
   "outputs": [
    {
     "name": "stdout",
     "output_type": "stream",
     "text": [
      "Found 7178 files belonging to 7 classes.\n"
     ]
    }
   ],
   "source": [
    "validation_data=tf.keras.utils.image_dataset_from_directory(\"test\",\n",
    "                                                           image_size=(48,48),\n",
    "                                                           batch_size=32,\n",
    "                                                           color_mode='grayscale',\n",
    "                                                           label_mode='categorical',\n",
    "                                                           shuffle=True)"
   ]
  },
  {
   "cell_type": "code",
   "execution_count": 7,
   "id": "423f0c39",
   "metadata": {},
   "outputs": [],
   "source": [
    "def convolution_layer(model,filters):\n",
    "    model.add(tf.keras.layers.Conv2D(filters=filters,kernel_size=3))\n",
    "    model.add(tf.keras.layers.BatchNormalization())\n",
    "    model.add(tf.keras.layers.Activation('relu'))\n",
    "    model.add(tf.keras.layers.MaxPool2D(pool_size=(2,2),strides=2))\n",
    "    model.add(tf.keras.layers.Dropout(0.2))\n",
    "    \n",
    "    return model"
   ]
  },
  {
   "cell_type": "code",
   "execution_count": 8,
   "id": "968f21b1",
   "metadata": {},
   "outputs": [],
   "source": [
    "def dense_layer(model,units,activation):\n",
    "    \n",
    "    model.add(tf.keras.layers.Dense(units=units,activation=activation))\n",
    "    model.add(tf.keras.layers.Dropout(0.15))\n",
    "\n",
    "    return model"
   ]
  },
  {
   "cell_type": "code",
   "execution_count": 9,
   "id": "d76efe2a",
   "metadata": {},
   "outputs": [],
   "source": [
    "def model_cnn():\n",
    "    \n",
    "    model=tf.keras.models.Sequential()\n",
    "    \n",
    "    model=convolution_layer(model,64)\n",
    "    model=convolution_layer(model,128)\n",
    "    model=convolution_layer(model,256)\n",
    "    model=convolution_layer(model,512)\n",
    "    \n",
    "    model.add(tf.keras.layers.Flatten())\n",
    "    \n",
    "    model=dense_layer(model,256,'relu')\n",
    "    model=dense_layer(model,128,'relu')\n",
    "    model=dense_layer(model,64,'relu')\n",
    "    \n",
    "    model.add(tf.keras.layers.Dense(7,activation='softmax'))\n",
    "    \n",
    "    model.compile(loss=['categorical_crossentropy'],optimizer='adam',metrics=['accuracy'])\n",
    "    \n",
    "    return model"
   ]
  },
  {
   "cell_type": "code",
   "execution_count": 10,
   "id": "01f57138",
   "metadata": {},
   "outputs": [
    {
     "name": "stdout",
     "output_type": "stream",
     "text": [
      "WARNING:tensorflow:From C:\\Users\\navee\\anaconda3\\Lib\\site-packages\\keras\\src\\backend.py:873: The name tf.get_default_graph is deprecated. Please use tf.compat.v1.get_default_graph instead.\n",
      "\n",
      "WARNING:tensorflow:From C:\\Users\\navee\\anaconda3\\Lib\\site-packages\\keras\\src\\layers\\pooling\\max_pooling2d.py:161: The name tf.nn.max_pool is deprecated. Please use tf.nn.max_pool2d instead.\n",
      "\n",
      "WARNING:tensorflow:From C:\\Users\\navee\\anaconda3\\Lib\\site-packages\\keras\\src\\optimizers\\__init__.py:309: The name tf.train.Optimizer is deprecated. Please use tf.compat.v1.train.Optimizer instead.\n",
      "\n"
     ]
    }
   ],
   "source": [
    "model=model_cnn()"
   ]
  },
  {
   "cell_type": "code",
   "execution_count": 11,
   "id": "c08f0a91",
   "metadata": {},
   "outputs": [],
   "source": [
    "checkpoint=tf.keras.callbacks.ModelCheckpoint('model_weights.h5',mode='max',save_best_only=True,monitor='val_accuracy')\n",
    "reduce_lr=tf.keras.callbacks.ReduceLROnPlateau(factor=0.1,patience=3,monitor='val_accuracy',min_lr=0.00000001)"
   ]
  },
  {
   "cell_type": "code",
   "execution_count": 12,
   "id": "94764e7f",
   "metadata": {},
   "outputs": [
    {
     "name": "stdout",
     "output_type": "stream",
     "text": [
      "Epoch 1/50\n",
      "WARNING:tensorflow:From C:\\Users\\navee\\anaconda3\\Lib\\site-packages\\keras\\src\\utils\\tf_utils.py:492: The name tf.ragged.RaggedTensorValue is deprecated. Please use tf.compat.v1.ragged.RaggedTensorValue instead.\n",
      "\n",
      "WARNING:tensorflow:From C:\\Users\\navee\\anaconda3\\Lib\\site-packages\\keras\\src\\engine\\base_layer_utils.py:384: The name tf.executing_eagerly_outside_functions is deprecated. Please use tf.compat.v1.executing_eagerly_outside_functions instead.\n",
      "\n",
      "898/898 [==============================] - 143s 156ms/step - loss: 1.6572 - accuracy: 0.3390 - val_loss: 1.4628 - val_accuracy: 0.4335 - lr: 0.0010\n"
     ]
    },
    {
     "name": "stderr",
     "output_type": "stream",
     "text": [
      "C:\\Users\\navee\\anaconda3\\Lib\\site-packages\\keras\\src\\engine\\training.py:3103: UserWarning: You are saving your model as an HDF5 file via `model.save()`. This file format is considered legacy. We recommend using instead the native Keras format, e.g. `model.save('my_model.keras')`.\n",
      "  saving_api.save_model(\n"
     ]
    },
    {
     "name": "stdout",
     "output_type": "stream",
     "text": [
      "Epoch 2/50\n",
      "898/898 [==============================] - 130s 144ms/step - loss: 1.4192 - accuracy: 0.4540 - val_loss: 1.3664 - val_accuracy: 0.4622 - lr: 0.0010\n",
      "Epoch 3/50\n",
      "898/898 [==============================] - 140s 156ms/step - loss: 1.3142 - accuracy: 0.5025 - val_loss: 1.3239 - val_accuracy: 0.4890 - lr: 0.0010\n",
      "Epoch 4/50\n",
      "898/898 [==============================] - 139s 154ms/step - loss: 1.2563 - accuracy: 0.5250 - val_loss: 1.2882 - val_accuracy: 0.5189 - lr: 0.0010\n",
      "Epoch 5/50\n",
      "898/898 [==============================] - 139s 154ms/step - loss: 1.1981 - accuracy: 0.5492 - val_loss: 1.2142 - val_accuracy: 0.5436 - lr: 0.0010\n",
      "Epoch 6/50\n",
      "898/898 [==============================] - 144s 161ms/step - loss: 1.1615 - accuracy: 0.5630 - val_loss: 1.1449 - val_accuracy: 0.5680 - lr: 0.0010\n",
      "Epoch 7/50\n",
      "898/898 [==============================] - 122s 136ms/step - loss: 1.1212 - accuracy: 0.5789 - val_loss: 1.1595 - val_accuracy: 0.5624 - lr: 0.0010\n",
      "Epoch 8/50\n",
      "898/898 [==============================] - 120s 134ms/step - loss: 1.0781 - accuracy: 0.5971 - val_loss: 1.1207 - val_accuracy: 0.5768 - lr: 0.0010\n",
      "Epoch 9/50\n",
      "898/898 [==============================] - 136s 152ms/step - loss: 1.0318 - accuracy: 0.6147 - val_loss: 1.1560 - val_accuracy: 0.5678 - lr: 0.0010\n",
      "Epoch 10/50\n",
      "898/898 [==============================] - 133s 148ms/step - loss: 1.0006 - accuracy: 0.6270 - val_loss: 1.1591 - val_accuracy: 0.5637 - lr: 0.0010\n",
      "Epoch 11/50\n",
      "898/898 [==============================] - 126s 140ms/step - loss: 0.9603 - accuracy: 0.6396 - val_loss: 1.3714 - val_accuracy: 0.4806 - lr: 0.0010\n",
      "Epoch 12/50\n",
      "898/898 [==============================] - 188s 210ms/step - loss: 0.8562 - accuracy: 0.6827 - val_loss: 1.0503 - val_accuracy: 0.6244 - lr: 1.0000e-04\n",
      "Epoch 13/50\n",
      "898/898 [==============================] - 140s 155ms/step - loss: 0.8259 - accuracy: 0.6942 - val_loss: 1.0476 - val_accuracy: 0.6280 - lr: 1.0000e-04\n",
      "Epoch 14/50\n",
      "898/898 [==============================] - 120s 134ms/step - loss: 0.7996 - accuracy: 0.7030 - val_loss: 1.0523 - val_accuracy: 0.6310 - lr: 1.0000e-04\n",
      "Epoch 15/50\n",
      "898/898 [==============================] - 119s 133ms/step - loss: 0.7828 - accuracy: 0.7116 - val_loss: 1.0570 - val_accuracy: 0.6279 - lr: 1.0000e-04\n",
      "Epoch 16/50\n",
      "898/898 [==============================] - 119s 133ms/step - loss: 0.7631 - accuracy: 0.7143 - val_loss: 1.0488 - val_accuracy: 0.6333 - lr: 1.0000e-04\n",
      "Epoch 17/50\n",
      "898/898 [==============================] - 145s 161ms/step - loss: 0.7594 - accuracy: 0.7178 - val_loss: 1.0614 - val_accuracy: 0.6317 - lr: 1.0000e-04\n",
      "Epoch 18/50\n",
      "898/898 [==============================] - 142s 158ms/step - loss: 0.7501 - accuracy: 0.7238 - val_loss: 1.0546 - val_accuracy: 0.6310 - lr: 1.0000e-04\n",
      "Epoch 19/50\n",
      "898/898 [==============================] - 147s 163ms/step - loss: 0.7351 - accuracy: 0.7288 - val_loss: 1.0593 - val_accuracy: 0.6317 - lr: 1.0000e-04\n",
      "Epoch 20/50\n",
      "898/898 [==============================] - 141s 157ms/step - loss: 0.7242 - accuracy: 0.7293 - val_loss: 1.0430 - val_accuracy: 0.6354 - lr: 1.0000e-05\n",
      "Epoch 21/50\n",
      "898/898 [==============================] - 141s 157ms/step - loss: 0.7164 - accuracy: 0.7346 - val_loss: 1.0413 - val_accuracy: 0.6367 - lr: 1.0000e-05\n",
      "Epoch 22/50\n",
      "898/898 [==============================] - 142s 158ms/step - loss: 0.7130 - accuracy: 0.7369 - val_loss: 1.0401 - val_accuracy: 0.6354 - lr: 1.0000e-05\n",
      "Epoch 23/50\n",
      "898/898 [==============================] - 144s 160ms/step - loss: 0.7077 - accuracy: 0.7389 - val_loss: 1.0425 - val_accuracy: 0.6362 - lr: 1.0000e-05\n",
      "Epoch 24/50\n",
      "898/898 [==============================] - 140s 156ms/step - loss: 0.7087 - accuracy: 0.7377 - val_loss: 1.0405 - val_accuracy: 0.6362 - lr: 1.0000e-05\n",
      "Epoch 25/50\n",
      "898/898 [==============================] - 141s 157ms/step - loss: 0.7068 - accuracy: 0.7357 - val_loss: 1.0402 - val_accuracy: 0.6357 - lr: 1.0000e-06\n",
      "Epoch 26/50\n",
      "898/898 [==============================] - 141s 157ms/step - loss: 0.7055 - accuracy: 0.7387 - val_loss: 1.0407 - val_accuracy: 0.6358 - lr: 1.0000e-06\n",
      "Epoch 27/50\n",
      "898/898 [==============================] - 143s 159ms/step - loss: 0.7139 - accuracy: 0.7339 - val_loss: 1.0400 - val_accuracy: 0.6358 - lr: 1.0000e-06\n",
      "Epoch 28/50\n",
      "898/898 [==============================] - 146s 163ms/step - loss: 0.7060 - accuracy: 0.7390 - val_loss: 1.0405 - val_accuracy: 0.6358 - lr: 1.0000e-07\n",
      "Epoch 29/50\n",
      "898/898 [==============================] - 146s 162ms/step - loss: 0.7080 - accuracy: 0.7362 - val_loss: 1.0402 - val_accuracy: 0.6354 - lr: 1.0000e-07\n",
      "Epoch 30/50\n",
      "898/898 [==============================] - 162s 180ms/step - loss: 0.7049 - accuracy: 0.7383 - val_loss: 1.0402 - val_accuracy: 0.6357 - lr: 1.0000e-07\n",
      "Epoch 31/50\n",
      "898/898 [==============================] - 166s 185ms/step - loss: 0.7051 - accuracy: 0.7367 - val_loss: 1.0414 - val_accuracy: 0.6360 - lr: 1.0000e-08\n",
      "Epoch 32/50\n",
      "898/898 [==============================] - 148s 165ms/step - loss: 0.7042 - accuracy: 0.7390 - val_loss: 1.0410 - val_accuracy: 0.6360 - lr: 1.0000e-08\n",
      "Epoch 33/50\n",
      "898/898 [==============================] - 146s 162ms/step - loss: 0.7028 - accuracy: 0.7387 - val_loss: 1.0406 - val_accuracy: 0.6354 - lr: 1.0000e-08\n",
      "Epoch 34/50\n",
      "898/898 [==============================] - 145s 161ms/step - loss: 0.6979 - accuracy: 0.7378 - val_loss: 1.0407 - val_accuracy: 0.6357 - lr: 1.0000e-08\n",
      "Epoch 35/50\n",
      "898/898 [==============================] - 147s 164ms/step - loss: 0.7060 - accuracy: 0.7394 - val_loss: 1.0405 - val_accuracy: 0.6354 - lr: 1.0000e-08\n",
      "Epoch 36/50\n",
      "898/898 [==============================] - 167s 185ms/step - loss: 0.7054 - accuracy: 0.7380 - val_loss: 1.0406 - val_accuracy: 0.6362 - lr: 1.0000e-08\n",
      "Epoch 37/50\n",
      "898/898 [==============================] - 148s 165ms/step - loss: 0.7107 - accuracy: 0.7327 - val_loss: 1.0413 - val_accuracy: 0.6357 - lr: 1.0000e-08\n",
      "Epoch 38/50\n",
      "898/898 [==============================] - 172s 192ms/step - loss: 0.7093 - accuracy: 0.7356 - val_loss: 1.0397 - val_accuracy: 0.6354 - lr: 1.0000e-08\n",
      "Epoch 39/50\n",
      "898/898 [==============================] - 146s 163ms/step - loss: 0.7109 - accuracy: 0.7360 - val_loss: 1.0407 - val_accuracy: 0.6358 - lr: 1.0000e-08\n",
      "Epoch 40/50\n",
      "898/898 [==============================] - 145s 162ms/step - loss: 0.7037 - accuracy: 0.7376 - val_loss: 1.0408 - val_accuracy: 0.6361 - lr: 1.0000e-08\n",
      "Epoch 41/50\n",
      "898/898 [==============================] - 135s 150ms/step - loss: 0.7081 - accuracy: 0.7366 - val_loss: 1.0406 - val_accuracy: 0.6361 - lr: 1.0000e-08\n",
      "Epoch 42/50\n",
      "898/898 [==============================] - 133s 148ms/step - loss: 0.7090 - accuracy: 0.7358 - val_loss: 1.0399 - val_accuracy: 0.6353 - lr: 1.0000e-08\n",
      "Epoch 43/50\n",
      "898/898 [==============================] - 136s 151ms/step - loss: 0.7083 - accuracy: 0.7363 - val_loss: 1.0415 - val_accuracy: 0.6357 - lr: 1.0000e-08\n",
      "Epoch 44/50\n",
      "898/898 [==============================] - 113s 126ms/step - loss: 0.7070 - accuracy: 0.7378 - val_loss: 1.0412 - val_accuracy: 0.6361 - lr: 1.0000e-08\n",
      "Epoch 45/50\n",
      "898/898 [==============================] - 127s 141ms/step - loss: 0.7008 - accuracy: 0.7396 - val_loss: 1.0409 - val_accuracy: 0.6360 - lr: 1.0000e-08\n",
      "Epoch 46/50\n",
      "898/898 [==============================] - 135s 150ms/step - loss: 0.7067 - accuracy: 0.7393 - val_loss: 1.0403 - val_accuracy: 0.6357 - lr: 1.0000e-08\n",
      "Epoch 47/50\n",
      "898/898 [==============================] - 146s 163ms/step - loss: 0.7004 - accuracy: 0.7384 - val_loss: 1.0405 - val_accuracy: 0.6360 - lr: 1.0000e-08\n",
      "Epoch 48/50\n",
      "898/898 [==============================] - 132s 147ms/step - loss: 0.7079 - accuracy: 0.7396 - val_loss: 1.0407 - val_accuracy: 0.6353 - lr: 1.0000e-08\n",
      "Epoch 49/50\n",
      "898/898 [==============================] - 116s 130ms/step - loss: 0.7024 - accuracy: 0.7391 - val_loss: 1.0402 - val_accuracy: 0.6356 - lr: 1.0000e-08\n",
      "Epoch 50/50\n",
      "898/898 [==============================] - 119s 132ms/step - loss: 0.7078 - accuracy: 0.7388 - val_loss: 1.0420 - val_accuracy: 0.6358 - lr: 1.0000e-08\n"
     ]
    }
   ],
   "source": [
    "history=model.fit(train_data,validation_data=validation_data,epochs=50,callbacks=[checkpoint,reduce_lr],batch_size=200)"
   ]
  },
  {
   "cell_type": "code",
   "execution_count": 13,
   "id": "a81da686",
   "metadata": {},
   "outputs": [
    {
     "name": "stdout",
     "output_type": "stream",
     "text": [
      "Model: \"sequential\"\n",
      "_________________________________________________________________\n",
      " Layer (type)                Output Shape              Param #   \n",
      "=================================================================\n",
      " conv2d (Conv2D)             (None, 46, 46, 64)        640       \n",
      "                                                                 \n",
      " batch_normalization (Batch  (None, 46, 46, 64)        256       \n",
      " Normalization)                                                  \n",
      "                                                                 \n",
      " activation (Activation)     (None, 46, 46, 64)        0         \n",
      "                                                                 \n",
      " max_pooling2d (MaxPooling2  (None, 23, 23, 64)        0         \n",
      " D)                                                              \n",
      "                                                                 \n",
      " dropout (Dropout)           (None, 23, 23, 64)        0         \n",
      "                                                                 \n",
      " conv2d_1 (Conv2D)           (None, 21, 21, 128)       73856     \n",
      "                                                                 \n",
      " batch_normalization_1 (Bat  (None, 21, 21, 128)       512       \n",
      " chNormalization)                                                \n",
      "                                                                 \n",
      " activation_1 (Activation)   (None, 21, 21, 128)       0         \n",
      "                                                                 \n",
      " max_pooling2d_1 (MaxPoolin  (None, 10, 10, 128)       0         \n",
      " g2D)                                                            \n",
      "                                                                 \n",
      " dropout_1 (Dropout)         (None, 10, 10, 128)       0         \n",
      "                                                                 \n",
      " conv2d_2 (Conv2D)           (None, 8, 8, 256)         295168    \n",
      "                                                                 \n",
      " batch_normalization_2 (Bat  (None, 8, 8, 256)         1024      \n",
      " chNormalization)                                                \n",
      "                                                                 \n",
      " activation_2 (Activation)   (None, 8, 8, 256)         0         \n",
      "                                                                 \n",
      " max_pooling2d_2 (MaxPoolin  (None, 4, 4, 256)         0         \n",
      " g2D)                                                            \n",
      "                                                                 \n",
      " dropout_2 (Dropout)         (None, 4, 4, 256)         0         \n",
      "                                                                 \n",
      " conv2d_3 (Conv2D)           (None, 2, 2, 512)         1180160   \n",
      "                                                                 \n",
      " batch_normalization_3 (Bat  (None, 2, 2, 512)         2048      \n",
      " chNormalization)                                                \n",
      "                                                                 \n",
      " activation_3 (Activation)   (None, 2, 2, 512)         0         \n",
      "                                                                 \n",
      " max_pooling2d_3 (MaxPoolin  (None, 1, 1, 512)         0         \n",
      " g2D)                                                            \n",
      "                                                                 \n",
      " dropout_3 (Dropout)         (None, 1, 1, 512)         0         \n",
      "                                                                 \n",
      " flatten (Flatten)           (None, 512)               0         \n",
      "                                                                 \n",
      " dense (Dense)               (None, 256)               131328    \n",
      "                                                                 \n",
      " dropout_4 (Dropout)         (None, 256)               0         \n",
      "                                                                 \n",
      " dense_1 (Dense)             (None, 128)               32896     \n",
      "                                                                 \n",
      " dropout_5 (Dropout)         (None, 128)               0         \n",
      "                                                                 \n",
      " dense_2 (Dense)             (None, 64)                8256      \n",
      "                                                                 \n",
      " dropout_6 (Dropout)         (None, 64)                0         \n",
      "                                                                 \n",
      " dense_3 (Dense)             (None, 7)                 455       \n",
      "                                                                 \n",
      "=================================================================\n",
      "Total params: 1726599 (6.59 MB)\n",
      "Trainable params: 1724679 (6.58 MB)\n",
      "Non-trainable params: 1920 (7.50 KB)\n",
      "_________________________________________________________________\n"
     ]
    }
   ],
   "source": [
    "model.summary()"
   ]
  },
  {
   "cell_type": "code",
   "execution_count": 14,
   "id": "9cffbe3a",
   "metadata": {},
   "outputs": [
    {
     "data": {
      "image/png": "[encoded data removed]",
      "text/plain": [
       "<Figure size 640x480 with 1 Axes>"
      ]
     },
     "metadata": {},
     "output_type": "display_data"
    }
   ],
   "source": [
    "plt.plot(history.history['accuracy'])\n",
    "plt.plot(history.history['val_accuracy'])\n",
    "plt.title('Model Accuracy')\n",
    "plt.legend(['Train','validation'],loc='upper left')\n",
    "plt.show()"
   ]
  },
  {
   "cell_type": "code",
   "execution_count": 15,
   "id": "9c784e3c",
   "metadata": {},
   "outputs": [
    {
     "data": {
      "image/png": "[encoded data removed]",
      "text/plain": [
       "<Figure size 640x480 with 1 Axes>"
      ]
     },
     "metadata": {},
     "output_type": "display_data"
    }
   ],
   "source": [
    "plt.plot(history.history['loss'])\n",
    "plt.plot(history.history['val_loss'])\n",
    "plt.title('Model loss')\n",
    "plt.legend(['Train','validation'],loc='upper left')\n",
    "plt.show()"
   ]
  },
  {
   "cell_type": "code",
   "execution_count": 16,
   "id": "2eb0ba72",
   "metadata": {},
   "outputs": [],
   "source": [
    "model.load_weights('model_weights.h5')"
   ]
  },
  {
   "cell_type": "code",
   "execution_count": 17,
   "id": "9068d3d3",
   "metadata": {},
   "outputs": [
    {
     "name": "stdout",
     "output_type": "stream",
     "text": [
      "225/225 [==============================] - 8s 37ms/step - loss: 1.0413 - accuracy: 0.6367\n"
     ]
    },
    {
     "data": {
      "text/plain": [
       "[1.0412681102752686, 0.6366676092147827]"
      ]
     },
     "execution_count": 17,
     "metadata": {},
     "output_type": "execute_result"
    }
   ],
   "source": [
    "model.evaluate(validation_data)"
   ]
  },
  {
   "cell_type": "code",
   "execution_count": 18,
   "id": "035317ad",
   "metadata": {},
   "outputs": [],
   "source": [
    "model_json=model.to_json()\n",
    "with open(\"model_a.json\",\"w\") as json_file:\n",
    "    json_file.write(model_json)"
   ]
  },
  {
   "cell_type": "code",
   "execution_count": null,
   "id": "ec83923b",
   "metadata": {},
   "outputs": [],
   "source": []
  },
  {
   "cell_type": "code",
   "execution_count": null,
   "id": "1d1db82a",
   "metadata": {},
   "outputs": [],
   "source": []
  }
 ],
 "metadata": {
  "kernelspec": {
   "display_name": "Python 3 (ipykernel)",
   "language": "python",
   "name": "python3"
  },
  "language_info": {
   "codemirror_mode": {
    "name": "ipython",
    "version": 3
   },
   "file_extension": ".py",
   "mimetype": "text/x-python",
   "name": "python",
   "nbconvert_exporter": "python",
   "pygments_lexer": "ipython3",
   "version": "3.11.5"
  }
 },
 "nbformat": 4,
 "nbformat_minor": 5
}
